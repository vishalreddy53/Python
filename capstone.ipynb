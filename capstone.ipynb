{
 "cells": [
  {
   "cell_type": "code",
   "execution_count": 3,
   "id": "57188aa1-dd69-4359-b572-fff0b7ee02bd",
   "metadata": {},
   "outputs": [
    {
     "name": "stdout",
     "output_type": "stream",
     "text": [
      "Requirement already satisfied: mypysql in c:\\users\\admin\\appdata\\local\\programs\\python\\python312\\lib\\site-packages (0.1.7)\n",
      "Requirement already satisfied: mysql-connector-python in c:\\users\\admin\\appdata\\local\\programs\\python\\python312\\lib\\site-packages (from mypysql) (8.3.0)\n",
      "Requirement already satisfied: pymysql in c:\\users\\admin\\appdata\\local\\programs\\python\\python312\\lib\\site-packages (from mypysql) (1.1.0)\n",
      "Requirement already satisfied: pandas in c:\\users\\admin\\appdata\\local\\programs\\python\\python312\\lib\\site-packages (from mypysql) (2.2.1)\n",
      "Requirement already satisfied: sqlalchemy in c:\\users\\admin\\appdata\\local\\programs\\python\\python312\\lib\\site-packages (from mypysql) (2.0.29)\n",
      "Requirement already satisfied: Unidecode in c:\\users\\admin\\appdata\\local\\programs\\python\\python312\\lib\\site-packages (from mypysql) (1.3.8)\n",
      "Requirement already satisfied: numpy<2,>=1.26.0 in c:\\users\\admin\\appdata\\local\\programs\\python\\python312\\lib\\site-packages (from pandas->mypysql) (1.26.4)\n",
      "Requirement already satisfied: python-dateutil>=2.8.2 in c:\\users\\admin\\appdata\\local\\programs\\python\\python312\\lib\\site-packages (from pandas->mypysql) (2.9.0.post0)\n",
      "Requirement already satisfied: pytz>=2020.1 in c:\\users\\admin\\appdata\\local\\programs\\python\\python312\\lib\\site-packages (from pandas->mypysql) (2024.1)\n",
      "Requirement already satisfied: tzdata>=2022.7 in c:\\users\\admin\\appdata\\local\\programs\\python\\python312\\lib\\site-packages (from pandas->mypysql) (2024.1)\n",
      "Requirement already satisfied: typing-extensions>=4.6.0 in c:\\users\\admin\\appdata\\local\\programs\\python\\python312\\lib\\site-packages (from sqlalchemy->mypysql) (4.10.0)\n",
      "Requirement already satisfied: greenlet!=0.4.17 in c:\\users\\admin\\appdata\\local\\programs\\python\\python312\\lib\\site-packages (from sqlalchemy->mypysql) (3.0.3)\n",
      "Requirement already satisfied: six>=1.5 in c:\\users\\admin\\appdata\\local\\programs\\python\\python312\\lib\\site-packages (from python-dateutil>=2.8.2->pandas->mypysql) (1.16.0)\n"
     ]
    }
   ],
   "source": [
    "!pip install mypysql"
   ]
  },
  {
   "cell_type": "code",
   "execution_count": 43,
   "id": "05e8f172-8cc6-494e-9ae5-856cc180be8d",
   "metadata": {},
   "outputs": [],
   "source": [
    "#1. Database Setup and Import :\n",
    "import pymysql\n",
    "import numpy as np\n",
    "import os\n",
    "import pandas as pd\n",
    "conn=pymysql.connect(host=\"localhost\",\n",
    "                user=\"root\",\n",
    "                password=\"Vis@04032001\",\n",
    "                db=\"proj\")\n"
   ]
  },
  {
   "cell_type": "code",
   "execution_count": 44,
   "id": "f00f7fe6-6af4-4508-b880-9dc26d78dac1",
   "metadata": {},
   "outputs": [
    {
     "data": {
      "text/plain": [
       "10"
      ]
     },
     "execution_count": 44,
     "metadata": {},
     "output_type": "execute_result"
    }
   ],
   "source": [
    "10"
   ]
  },
  {
   "cell_type": "code",
   "execution_count": 52,
   "id": "5b404e8d-80e7-4cb1-a679-392e50930c5e",
   "metadata": {},
   "outputs": [
    {
     "name": "stderr",
     "output_type": "stream",
     "text": [
      "C:\\Users\\ADMIN\\AppData\\Local\\Temp\\ipykernel_16748\\3329672611.py:9: UserWarning: pandas only supports SQLAlchemy connectable (engine/connection) or database string URI or sqlite3 DBAPI2 connection. Other DBAPI2 objects are not tested. Please consider using SQLAlchemy.\n",
      "  df = pd.read_sql_query(sql_query, con=conn)\n"
     ]
    },
    {
     "data": {
      "text/html": [
       "<div>\n",
       "<style scoped>\n",
       "    .dataframe tbody tr th:only-of-type {\n",
       "        vertical-align: middle;\n",
       "    }\n",
       "\n",
       "    .dataframe tbody tr th {\n",
       "        vertical-align: top;\n",
       "    }\n",
       "\n",
       "    .dataframe thead th {\n",
       "        text-align: right;\n",
       "    }\n",
       "</style>\n",
       "<table border=\"1\" class=\"dataframe\">\n",
       "  <thead>\n",
       "    <tr style=\"text-align: right;\">\n",
       "      <th></th>\n",
       "      <th>DR_NO</th>\n",
       "      <th>Date_Rptd</th>\n",
       "      <th>DATE_OCC</th>\n",
       "      <th>AREA_NAME</th>\n",
       "      <th>Crm_Cd</th>\n",
       "      <th>Crm_Cd_Desc</th>\n",
       "      <th>Vict_Age</th>\n",
       "      <th>Vict_Sex</th>\n",
       "      <th>Premis_Desc</th>\n",
       "      <th>Status</th>\n",
       "      <th>Location</th>\n",
       "      <th>LAT</th>\n",
       "      <th>LON</th>\n",
       "    </tr>\n",
       "  </thead>\n",
       "  <tbody>\n",
       "    <tr>\n",
       "      <th>0</th>\n",
       "      <td>10304468</td>\n",
       "      <td>01-08-2020</td>\n",
       "      <td>01-08-2020</td>\n",
       "      <td>Southwest</td>\n",
       "      <td>624</td>\n",
       "      <td>BATTERY - SIMPLE ASSAULT</td>\n",
       "      <td>36</td>\n",
       "      <td>F</td>\n",
       "      <td>SINGLE FAMILY DWELLING</td>\n",
       "      <td>AO</td>\n",
       "      <td>1100 W 39TH PL</td>\n",
       "      <td>34.01</td>\n",
       "      <td>-118.30</td>\n",
       "    </tr>\n",
       "    <tr>\n",
       "      <th>1</th>\n",
       "      <td>190101086</td>\n",
       "      <td>01-02-2020</td>\n",
       "      <td>01-01-2020</td>\n",
       "      <td>Central</td>\n",
       "      <td>624</td>\n",
       "      <td>BATTERY - SIMPLE ASSAULT</td>\n",
       "      <td>25</td>\n",
       "      <td>M</td>\n",
       "      <td>SIDEWALK</td>\n",
       "      <td>IC</td>\n",
       "      <td>700 S HILL ST</td>\n",
       "      <td>34.05</td>\n",
       "      <td>-118.25</td>\n",
       "    </tr>\n",
       "    <tr>\n",
       "      <th>2</th>\n",
       "      <td>191501505</td>\n",
       "      <td>01-01-2020</td>\n",
       "      <td>01-01-2020</td>\n",
       "      <td>N Hollywood</td>\n",
       "      <td>745</td>\n",
       "      <td>VANDALISM - MISDEAMEANOR ($399 OR UNDER)</td>\n",
       "      <td>76</td>\n",
       "      <td>F</td>\n",
       "      <td>MULTI-UNIT DWELLING (APARTMENT, DUPLEX, ETC)</td>\n",
       "      <td>IC</td>\n",
       "      <td>5400 CORTEEN PL</td>\n",
       "      <td>34.17</td>\n",
       "      <td>-118.40</td>\n",
       "    </tr>\n",
       "    <tr>\n",
       "      <th>3</th>\n",
       "      <td>191921269</td>\n",
       "      <td>01-01-2020</td>\n",
       "      <td>01-01-2020</td>\n",
       "      <td>Mission</td>\n",
       "      <td>740</td>\n",
       "      <td>VANDALISM - FELONY ($400 &amp; OVER, ALL CHURCH VA...</td>\n",
       "      <td>31</td>\n",
       "      <td>X</td>\n",
       "      <td>BEAUTY SUPPLY STORE</td>\n",
       "      <td>IC</td>\n",
       "      <td>14400 TITUS ST</td>\n",
       "      <td>34.22</td>\n",
       "      <td>-118.45</td>\n",
       "    </tr>\n",
       "    <tr>\n",
       "      <th>4</th>\n",
       "      <td>200100502</td>\n",
       "      <td>01-02-2020</td>\n",
       "      <td>01-02-2020</td>\n",
       "      <td>Central</td>\n",
       "      <td>442</td>\n",
       "      <td>SHOPLIFTING - PETTY THEFT ($950 &amp; UNDER)</td>\n",
       "      <td>23</td>\n",
       "      <td>M</td>\n",
       "      <td>DEPARTMENT STORE</td>\n",
       "      <td>IC</td>\n",
       "      <td>700 S FIGUEROA ST</td>\n",
       "      <td>34.05</td>\n",
       "      <td>-118.26</td>\n",
       "    </tr>\n",
       "  </tbody>\n",
       "</table>\n",
       "</div>"
      ],
      "text/plain": [
       "       DR_NO   Date_Rptd    DATE_OCC    AREA_NAME  Crm_Cd  \\\n",
       "0   10304468  01-08-2020  01-08-2020    Southwest     624   \n",
       "1  190101086  01-02-2020  01-01-2020      Central     624   \n",
       "2  191501505  01-01-2020  01-01-2020  N Hollywood     745   \n",
       "3  191921269  01-01-2020  01-01-2020      Mission     740   \n",
       "4  200100502  01-02-2020  01-02-2020      Central     442   \n",
       "\n",
       "                                         Crm_Cd_Desc  Vict_Age Vict_Sex  \\\n",
       "0                           BATTERY - SIMPLE ASSAULT        36        F   \n",
       "1                           BATTERY - SIMPLE ASSAULT        25        M   \n",
       "2           VANDALISM - MISDEAMEANOR ($399 OR UNDER)        76        F   \n",
       "3  VANDALISM - FELONY ($400 & OVER, ALL CHURCH VA...        31        X   \n",
       "4           SHOPLIFTING - PETTY THEFT ($950 & UNDER)        23        M   \n",
       "\n",
       "                                    Premis_Desc Status           Location  \\\n",
       "0                        SINGLE FAMILY DWELLING     AO     1100 W 39TH PL   \n",
       "1                                      SIDEWALK     IC      700 S HILL ST   \n",
       "2  MULTI-UNIT DWELLING (APARTMENT, DUPLEX, ETC)     IC    5400 CORTEEN PL   \n",
       "3                           BEAUTY SUPPLY STORE     IC     14400 TITUS ST   \n",
       "4                              DEPARTMENT STORE     IC  700 S FIGUEROA ST   \n",
       "\n",
       "     LAT     LON  \n",
       "0  34.01 -118.30  \n",
       "1  34.05 -118.25  \n",
       "2  34.17 -118.40  \n",
       "3  34.22 -118.45  \n",
       "4  34.05 -118.26  "
      ]
     },
     "execution_count": 52,
     "metadata": {},
     "output_type": "execute_result"
    }
   ],
   "source": [
    "#2. Database Connection :\n",
    "import pandas as pd\n",
    "\n",
    "\n",
    "\n",
    "# Define SQL query\n",
    "sql_query = \"SELECT * FROM crime_data\" \n",
    "\n",
    "df = pd.read_sql_query(sql_query, con=conn)\n",
    "df.head()"
   ]
  },
  {
   "cell_type": "code",
   "execution_count": 50,
   "id": "1729ae74-0151-4f68-ad19-9c3d884c2924",
   "metadata": {},
   "outputs": [
    {
     "name": "stdout",
     "output_type": "stream",
     "text": [
      "               DR_NO   Date_Rptd    DATE_OCC AREA_NAME      Crm_Cd  \\\n",
      "count   4.990000e+02         499         499       499  499.000000   \n",
      "unique           NaN          68          61        19         NaN   \n",
      "top              NaN  01-11-2020  01-11-2020   Central         NaN   \n",
      "freq             NaN          42          38       423         NaN   \n",
      "mean    1.999930e+08         NaN         NaN       NaN  504.178357   \n",
      "std     8.742243e+06         NaN         NaN       NaN  198.381863   \n",
      "min     1.030447e+07         NaN         NaN       NaN  210.000000   \n",
      "25%     2.001044e+08         NaN         NaN       NaN  330.000000   \n",
      "50%     2.001048e+08         NaN         NaN       NaN  442.000000   \n",
      "75%     2.001064e+08         NaN         NaN       NaN  624.000000   \n",
      "max     2.220130e+08         NaN         NaN       NaN  956.000000   \n",
      "\n",
      "                  Crm_Cd_Desc    Vict_Age Vict_Sex Premis_Desc Status  \\\n",
      "count                     499  499.000000      499         499    499   \n",
      "unique                     42         NaN        4          67      4   \n",
      "top     BURGLARY FROM VEHICLE         NaN        M      STREET     IC   \n",
      "freq                       82         NaN      278         105    447   \n",
      "mean                      NaN   32.142285      NaN         NaN    NaN   \n",
      "std                       NaN   20.202136      NaN         NaN    NaN   \n",
      "min                       NaN    0.000000      NaN         NaN    NaN   \n",
      "25%                       NaN   23.000000      NaN         NaN    NaN   \n",
      "50%                       NaN   31.000000      NaN         NaN    NaN   \n",
      "75%                       NaN   46.500000      NaN         NaN    NaN   \n",
      "max                       NaN   78.000000      NaN         NaN    NaN   \n",
      "\n",
      "                Location         LAT         LON  \n",
      "count                499  499.000000  499.000000  \n",
      "unique               365         NaN         NaN  \n",
      "top     800 N ALAMEDA ST         NaN         NaN  \n",
      "freq                  14         NaN         NaN  \n",
      "mean                 NaN   34.047335 -118.261283  \n",
      "std                  NaN    0.053840    0.041560  \n",
      "min                  NaN   33.710000 -118.560000  \n",
      "25%                  NaN   34.040000 -118.260000  \n",
      "50%                  NaN   34.050000 -118.250000  \n",
      "75%                  NaN   34.050000 -118.240000  \n",
      "max                  NaN   34.280000 -118.190000  \n",
      "[624 745 740 442 946 341 330 930 648 354 230 761 350 310 480 623 440 510\n",
      " 210 900 888 420 886 421 647 940 662 220 625 755 649 901 320 890 351 956\n",
      " 820 812 920 850 666 343]\n",
      "['BATTERY - SIMPLE ASSAULT' 'VANDALISM - MISDEAMEANOR ($399 OR UNDER)'\n",
      " 'VANDALISM - FELONY ($400 & OVER, ALL CHURCH VANDALISMS)'\n",
      " 'SHOPLIFTING - PETTY THEFT ($950 & UNDER)' 'OTHER MISCELLANEOUS CRIME'\n",
      " 'THEFT-GRAND ($950.01 & OVER)EXCPT,GUNS,FOWL,LIVESTK,PROD'\n",
      " 'BURGLARY FROM VEHICLE' 'CRIMINAL THREATS - NO WEAPON DISPLAYED' 'ARSON'\n",
      " 'THEFT OF IDENTITY' 'ASSAULT WITH DEADLY WEAPON, AGGRAVATED ASSAULT'\n",
      " 'BRANDISH WEAPON' 'THEFT, PERSON' 'BURGLARY' 'BIKE - STOLEN'\n",
      " 'BATTERY POLICE (SIMPLE)' 'THEFT PLAIN - PETTY ($950 & UNDER)'\n",
      " 'VEHICLE - STOLEN' 'ROBBERY' 'VIOLATION OF COURT ORDER' 'TRESPASSING'\n",
      " 'THEFT FROM MOTOR VEHICLE - PETTY ($950 & UNDER)' 'DISTURBING THE PEACE'\n",
      " 'THEFT FROM MOTOR VEHICLE - ATTEMPT' 'THROWING OBJECT AT MOVING VEHICLE'\n",
      " 'EXTORTION' 'BUNCO, GRAND THEFT' 'ATTEMPTED ROBBERY' 'OTHER ASSAULT'\n",
      " 'BOMB SCARE' 'DOCUMENT FORGERY / STOLEN FELONY'\n",
      " 'VIOLATION OF RESTRAINING ORDER' 'BURGLARY, ATTEMPTED' 'FAILURE TO YIELD'\n",
      " 'PURSE SNATCHING' 'LETTERS, LEWD  -  TELEPHONE CALLS, LEWD'\n",
      " 'ORAL COPULATION'\n",
      " 'CRM AGNST CHLD (13 OR UNDER) (14-15 & SUSP 10 YRS OLDER)'\n",
      " 'KIDNAPPING - GRAND ATTEMPT' 'INDECENT EXPOSURE' 'BUNCO, ATTEMPT'\n",
      " 'SHOPLIFTING-GRAND THEFT ($950.01 & OVER)']\n"
     ]
    }
   ],
   "source": [
    "#3. Data Exploration:\n",
    "print(df.describe(include=\"all\"))  #describe function\n",
    "print(df[\"Crm_Cd\"].unique())   #unique function\n",
    "print(df[\"Crm_Cd_Desc\"].unique())\n"
   ]
  },
  {
   "cell_type": "code",
   "execution_count": 55,
   "id": "35303651-dd2a-4cc1-8bca-379268e09a53",
   "metadata": {},
   "outputs": [
    {
     "name": "stdout",
     "output_type": "stream",
     "text": [
      "Collecting matplotlib\n",
      "  Downloading matplotlib-3.8.4-cp312-cp312-win_amd64.whl.metadata (5.9 kB)\n",
      "Collecting contourpy>=1.0.1 (from matplotlib)\n",
      "  Downloading contourpy-1.2.1-cp312-cp312-win_amd64.whl.metadata (5.8 kB)\n",
      "Collecting cycler>=0.10 (from matplotlib)\n",
      "  Downloading cycler-0.12.1-py3-none-any.whl.metadata (3.8 kB)\n",
      "Collecting fonttools>=4.22.0 (from matplotlib)\n",
      "  Downloading fonttools-4.50.0-cp312-cp312-win_amd64.whl.metadata (162 kB)\n",
      "     ---------------------------------------- 0.0/162.6 kB ? eta -:--:--\n",
      "     -- ------------------------------------- 10.2/162.6 kB ? eta -:--:--\n",
      "     --------- --------------------------- 41.0/162.6 kB 495.5 kB/s eta 0:00:01\n",
      "     ----------------------------------- -- 153.6/162.6 kB 1.5 MB/s eta 0:00:01\n",
      "     -------------------------------------- 162.6/162.6 kB 1.2 MB/s eta 0:00:00\n",
      "Collecting kiwisolver>=1.3.1 (from matplotlib)\n",
      "  Downloading kiwisolver-1.4.5-cp312-cp312-win_amd64.whl.metadata (6.5 kB)\n",
      "Requirement already satisfied: numpy>=1.21 in c:\\users\\admin\\appdata\\local\\programs\\python\\python312\\lib\\site-packages (from matplotlib) (1.26.4)\n",
      "Requirement already satisfied: packaging>=20.0 in c:\\users\\admin\\appdata\\local\\programs\\python\\python312\\lib\\site-packages (from matplotlib) (24.0)\n",
      "Collecting pillow>=8 (from matplotlib)\n",
      "  Downloading pillow-10.3.0-cp312-cp312-win_amd64.whl.metadata (9.4 kB)\n",
      "Collecting pyparsing>=2.3.1 (from matplotlib)\n",
      "  Downloading pyparsing-3.1.2-py3-none-any.whl.metadata (5.1 kB)\n",
      "Requirement already satisfied: python-dateutil>=2.7 in c:\\users\\admin\\appdata\\local\\programs\\python\\python312\\lib\\site-packages (from matplotlib) (2.9.0.post0)\n",
      "Requirement already satisfied: six>=1.5 in c:\\users\\admin\\appdata\\local\\programs\\python\\python312\\lib\\site-packages (from python-dateutil>=2.7->matplotlib) (1.16.0)\n",
      "Downloading matplotlib-3.8.4-cp312-cp312-win_amd64.whl (7.7 MB)\n",
      "   ---------------------------------------- 0.0/7.7 MB ? eta -:--:--\n",
      "   - -------------------------------------- 0.2/7.7 MB 4.1 MB/s eta 0:00:02\n",
      "   -- ------------------------------------- 0.6/7.7 MB 5.8 MB/s eta 0:00:02\n",
      "   --- ------------------------------------ 0.6/7.7 MB 5.5 MB/s eta 0:00:02\n",
      "   --- ------------------------------------ 0.6/7.7 MB 4.4 MB/s eta 0:00:02\n",
      "   ---- ----------------------------------- 0.8/7.7 MB 3.8 MB/s eta 0:00:02\n",
      "   ----- ---------------------------------- 1.0/7.7 MB 3.7 MB/s eta 0:00:02\n",
      "   ------ --------------------------------- 1.3/7.7 MB 4.1 MB/s eta 0:00:02\n",
      "   ------ --------------------------------- 1.3/7.7 MB 4.1 MB/s eta 0:00:02\n",
      "   ------- -------------------------------- 1.5/7.7 MB 3.7 MB/s eta 0:00:02\n",
      "   -------- ------------------------------- 1.6/7.7 MB 3.7 MB/s eta 0:00:02\n",
      "   -------- ------------------------------- 1.6/7.7 MB 3.4 MB/s eta 0:00:02\n",
      "   --------- ------------------------------ 1.8/7.7 MB 3.6 MB/s eta 0:00:02\n",
      "   ---------- ----------------------------- 2.0/7.7 MB 3.6 MB/s eta 0:00:02\n",
      "   ---------- ----------------------------- 2.0/7.7 MB 3.6 MB/s eta 0:00:02\n",
      "   ----------- ---------------------------- 2.1/7.7 MB 3.2 MB/s eta 0:00:02\n",
      "   ----------- ---------------------------- 2.3/7.7 MB 3.3 MB/s eta 0:00:02\n",
      "   ------------ --------------------------- 2.4/7.7 MB 3.3 MB/s eta 0:00:02\n",
      "   ------------- -------------------------- 2.5/7.7 MB 3.3 MB/s eta 0:00:02\n",
      "   ------------- -------------------------- 2.5/7.7 MB 3.3 MB/s eta 0:00:02\n",
      "   -------------- ------------------------- 2.8/7.7 MB 3.3 MB/s eta 0:00:02\n",
      "   -------------- ------------------------- 2.8/7.7 MB 3.2 MB/s eta 0:00:02\n",
      "   ---------------- ----------------------- 3.1/7.7 MB 3.3 MB/s eta 0:00:02\n",
      "   ---------------- ----------------------- 3.2/7.7 MB 3.2 MB/s eta 0:00:02\n",
      "   ----------------- ---------------------- 3.3/7.7 MB 3.2 MB/s eta 0:00:02\n",
      "   ------------------ --------------------- 3.5/7.7 MB 3.2 MB/s eta 0:00:02\n",
      "   ------------------ --------------------- 3.6/7.7 MB 3.2 MB/s eta 0:00:02\n",
      "   ------------------- -------------------- 3.8/7.7 MB 3.2 MB/s eta 0:00:02\n",
      "   -------------------- ------------------- 3.9/7.7 MB 3.2 MB/s eta 0:00:02\n",
      "   -------------------- ------------------- 4.0/7.7 MB 3.1 MB/s eta 0:00:02\n",
      "   --------------------- ------------------ 4.1/7.7 MB 3.1 MB/s eta 0:00:02\n",
      "   --------------------- ------------------ 4.2/7.7 MB 3.1 MB/s eta 0:00:02\n",
      "   ---------------------- ----------------- 4.3/7.7 MB 3.0 MB/s eta 0:00:02\n",
      "   ---------------------- ----------------- 4.4/7.7 MB 3.0 MB/s eta 0:00:02\n",
      "   ----------------------- ---------------- 4.5/7.7 MB 3.0 MB/s eta 0:00:02\n",
      "   ------------------------ --------------- 4.6/7.7 MB 3.0 MB/s eta 0:00:02\n",
      "   ------------------------ --------------- 4.7/7.7 MB 3.0 MB/s eta 0:00:01\n",
      "   ------------------------- -------------- 4.8/7.7 MB 2.9 MB/s eta 0:00:01\n",
      "   ------------------------- -------------- 4.9/7.7 MB 2.9 MB/s eta 0:00:01\n",
      "   -------------------------- ------------- 5.1/7.7 MB 2.9 MB/s eta 0:00:01\n",
      "   --------------------------- ------------ 5.2/7.7 MB 2.9 MB/s eta 0:00:01\n",
      "   --------------------------- ------------ 5.3/7.7 MB 2.9 MB/s eta 0:00:01\n",
      "   ---------------------------- ----------- 5.4/7.7 MB 2.9 MB/s eta 0:00:01\n",
      "   ---------------------------- ----------- 5.5/7.7 MB 2.9 MB/s eta 0:00:01\n",
      "   ----------------------------- ---------- 5.6/7.7 MB 2.9 MB/s eta 0:00:01\n",
      "   ------------------------------ --------- 5.8/7.7 MB 2.9 MB/s eta 0:00:01\n",
      "   ------------------------------ --------- 5.9/7.7 MB 2.9 MB/s eta 0:00:01\n",
      "   ------------------------------- -------- 6.0/7.7 MB 2.9 MB/s eta 0:00:01\n",
      "   -------------------------------- ------- 6.2/7.7 MB 2.9 MB/s eta 0:00:01\n",
      "   -------------------------------- ------- 6.3/7.7 MB 2.9 MB/s eta 0:00:01\n",
      "   --------------------------------- ------ 6.4/7.7 MB 2.9 MB/s eta 0:00:01\n",
      "   ---------------------------------- ----- 6.6/7.7 MB 2.9 MB/s eta 0:00:01\n",
      "   ---------------------------------- ----- 6.7/7.7 MB 2.9 MB/s eta 0:00:01\n",
      "   ----------------------------------- ---- 6.8/7.7 MB 2.9 MB/s eta 0:00:01\n",
      "   ------------------------------------ --- 7.0/7.7 MB 2.9 MB/s eta 0:00:01\n",
      "   ------------------------------------ --- 7.1/7.7 MB 2.9 MB/s eta 0:00:01\n",
      "   ------------------------------------- -- 7.2/7.7 MB 2.9 MB/s eta 0:00:01\n",
      "   -------------------------------------- - 7.4/7.7 MB 2.9 MB/s eta 0:00:01\n",
      "   ---------------------------------------  7.5/7.7 MB 2.9 MB/s eta 0:00:01\n",
      "   ---------------------------------------  7.7/7.7 MB 2.9 MB/s eta 0:00:01\n",
      "   ---------------------------------------  7.7/7.7 MB 2.9 MB/s eta 0:00:01\n",
      "   ---------------------------------------  7.7/7.7 MB 2.9 MB/s eta 0:00:01\n",
      "   ---------------------------------------- 7.7/7.7 MB 2.7 MB/s eta 0:00:00\n",
      "Downloading contourpy-1.2.1-cp312-cp312-win_amd64.whl (189 kB)\n",
      "   ---------------------------------------- 0.0/189.9 kB ? eta -:--:--\n",
      "   ------------------------- -------------- 122.9/189.9 kB 7.0 MB/s eta 0:00:01\n",
      "   ---------------------------------------- 189.9/189.9 kB 2.9 MB/s eta 0:00:00\n",
      "Downloading cycler-0.12.1-py3-none-any.whl (8.3 kB)\n",
      "Downloading fonttools-4.50.0-cp312-cp312-win_amd64.whl (2.2 MB)\n",
      "   ---------------------------------------- 0.0/2.2 MB ? eta -:--:--\n",
      "   -- ------------------------------------- 0.2/2.2 MB 4.6 MB/s eta 0:00:01\n",
      "   ----- ---------------------------------- 0.3/2.2 MB 3.5 MB/s eta 0:00:01\n",
      "   -------- ------------------------------- 0.5/2.2 MB 3.5 MB/s eta 0:00:01\n",
      "   ---------- ----------------------------- 0.6/2.2 MB 3.5 MB/s eta 0:00:01\n",
      "   ------------- -------------------------- 0.7/2.2 MB 3.2 MB/s eta 0:00:01\n",
      "   ---------------- ----------------------- 0.9/2.2 MB 3.2 MB/s eta 0:00:01\n",
      "   ------------------- -------------------- 1.0/2.2 MB 3.3 MB/s eta 0:00:01\n",
      "   --------------------- ------------------ 1.2/2.2 MB 3.3 MB/s eta 0:00:01\n",
      "   ------------------------ --------------- 1.3/2.2 MB 3.2 MB/s eta 0:00:01\n",
      "   -------------------------- ------------- 1.5/2.2 MB 3.2 MB/s eta 0:00:01\n",
      "   ----------------------------- ---------- 1.6/2.2 MB 3.1 MB/s eta 0:00:01\n",
      "   -------------------------------- ------- 1.8/2.2 MB 3.2 MB/s eta 0:00:01\n",
      "   ----------------------------------- ---- 1.9/2.2 MB 3.3 MB/s eta 0:00:01\n",
      "   -------------------------------------- - 2.1/2.2 MB 3.2 MB/s eta 0:00:01\n",
      "   ---------------------------------------- 2.2/2.2 MB 3.1 MB/s eta 0:00:00\n",
      "Downloading kiwisolver-1.4.5-cp312-cp312-win_amd64.whl (56 kB)\n",
      "   ---------------------------------------- 0.0/56.0 kB ? eta -:--:--\n",
      "   ---------------------------------------- 56.0/56.0 kB 3.1 MB/s eta 0:00:00\n",
      "Downloading pillow-10.3.0-cp312-cp312-win_amd64.whl (2.5 MB)\n",
      "   ---------------------------------------- 0.0/2.5 MB ? eta -:--:--\n",
      "   - -------------------------------------- 0.1/2.5 MB 3.6 MB/s eta 0:00:01\n",
      "   ---- ----------------------------------- 0.3/2.5 MB 3.8 MB/s eta 0:00:01\n",
      "   ------- -------------------------------- 0.5/2.5 MB 3.7 MB/s eta 0:00:01\n",
      "   ---------- ----------------------------- 0.6/2.5 MB 3.4 MB/s eta 0:00:01\n",
      "   ------------ --------------------------- 0.8/2.5 MB 3.6 MB/s eta 0:00:01\n",
      "   --------------- ------------------------ 1.0/2.5 MB 3.5 MB/s eta 0:00:01\n",
      "   ------------------ --------------------- 1.2/2.5 MB 3.6 MB/s eta 0:00:01\n",
      "   --------------------- ------------------ 1.4/2.5 MB 3.6 MB/s eta 0:00:01\n",
      "   ------------------------ --------------- 1.5/2.5 MB 3.5 MB/s eta 0:00:01\n",
      "   -------------------------- ------------- 1.6/2.5 MB 3.5 MB/s eta 0:00:01\n",
      "   ---------------------------- ----------- 1.8/2.5 MB 3.4 MB/s eta 0:00:01\n",
      "   ------------------------------- -------- 2.0/2.5 MB 3.5 MB/s eta 0:00:01\n",
      "   --------------------------------- ------ 2.1/2.5 MB 3.5 MB/s eta 0:00:01\n",
      "   ----------------------------------- ---- 2.2/2.5 MB 3.5 MB/s eta 0:00:01\n",
      "   ------------------------------------- -- 2.3/2.5 MB 3.4 MB/s eta 0:00:01\n",
      "   ---------------------------------------  2.5/2.5 MB 3.5 MB/s eta 0:00:01\n",
      "   ---------------------------------------- 2.5/2.5 MB 3.3 MB/s eta 0:00:00\n",
      "Downloading pyparsing-3.1.2-py3-none-any.whl (103 kB)\n",
      "   ---------------------------------------- 0.0/103.2 kB ? eta -:--:--\n",
      "   ---------------------------------------  102.4/103.2 kB 3.0 MB/s eta 0:00:01\n",
      "   ---------------------------------------- 103.2/103.2 kB 2.0 MB/s eta 0:00:00\n",
      "Installing collected packages: pyparsing, pillow, kiwisolver, fonttools, cycler, contourpy, matplotlib\n",
      "Successfully installed contourpy-1.2.1 cycler-0.12.1 fonttools-4.50.0 kiwisolver-1.4.5 matplotlib-3.8.4 pillow-10.3.0 pyparsing-3.1.2\n"
     ]
    }
   ],
   "source": [
    "!pip install matplotlib"
   ]
  },
  {
   "cell_type": "code",
   "execution_count": 57,
   "id": "8ff2d139-b099-41ad-b68f-babdd80e21d0",
   "metadata": {},
   "outputs": [
    {
     "name": "stdout",
     "output_type": "stream",
     "text": [
      "Collecting seaborn\n",
      "  Downloading seaborn-0.13.2-py3-none-any.whl.metadata (5.4 kB)\n",
      "Requirement already satisfied: numpy!=1.24.0,>=1.20 in c:\\users\\admin\\appdata\\local\\programs\\python\\python312\\lib\\site-packages (from seaborn) (1.26.4)\n",
      "Requirement already satisfied: pandas>=1.2 in c:\\users\\admin\\appdata\\local\\programs\\python\\python312\\lib\\site-packages (from seaborn) (2.2.1)\n",
      "Requirement already satisfied: matplotlib!=3.6.1,>=3.4 in c:\\users\\admin\\appdata\\local\\programs\\python\\python312\\lib\\site-packages (from seaborn) (3.8.4)\n",
      "Requirement already satisfied: contourpy>=1.0.1 in c:\\users\\admin\\appdata\\local\\programs\\python\\python312\\lib\\site-packages (from matplotlib!=3.6.1,>=3.4->seaborn) (1.2.1)\n",
      "Requirement already satisfied: cycler>=0.10 in c:\\users\\admin\\appdata\\local\\programs\\python\\python312\\lib\\site-packages (from matplotlib!=3.6.1,>=3.4->seaborn) (0.12.1)\n",
      "Requirement already satisfied: fonttools>=4.22.0 in c:\\users\\admin\\appdata\\local\\programs\\python\\python312\\lib\\site-packages (from matplotlib!=3.6.1,>=3.4->seaborn) (4.50.0)\n",
      "Requirement already satisfied: kiwisolver>=1.3.1 in c:\\users\\admin\\appdata\\local\\programs\\python\\python312\\lib\\site-packages (from matplotlib!=3.6.1,>=3.4->seaborn) (1.4.5)\n",
      "Requirement already satisfied: packaging>=20.0 in c:\\users\\admin\\appdata\\local\\programs\\python\\python312\\lib\\site-packages (from matplotlib!=3.6.1,>=3.4->seaborn) (24.0)\n",
      "Requirement already satisfied: pillow>=8 in c:\\users\\admin\\appdata\\local\\programs\\python\\python312\\lib\\site-packages (from matplotlib!=3.6.1,>=3.4->seaborn) (10.3.0)\n",
      "Requirement already satisfied: pyparsing>=2.3.1 in c:\\users\\admin\\appdata\\local\\programs\\python\\python312\\lib\\site-packages (from matplotlib!=3.6.1,>=3.4->seaborn) (3.1.2)\n",
      "Requirement already satisfied: python-dateutil>=2.7 in c:\\users\\admin\\appdata\\local\\programs\\python\\python312\\lib\\site-packages (from matplotlib!=3.6.1,>=3.4->seaborn) (2.9.0.post0)\n",
      "Requirement already satisfied: pytz>=2020.1 in c:\\users\\admin\\appdata\\local\\programs\\python\\python312\\lib\\site-packages (from pandas>=1.2->seaborn) (2024.1)\n",
      "Requirement already satisfied: tzdata>=2022.7 in c:\\users\\admin\\appdata\\local\\programs\\python\\python312\\lib\\site-packages (from pandas>=1.2->seaborn) (2024.1)\n",
      "Requirement already satisfied: six>=1.5 in c:\\users\\admin\\appdata\\local\\programs\\python\\python312\\lib\\site-packages (from python-dateutil>=2.7->matplotlib!=3.6.1,>=3.4->seaborn) (1.16.0)\n",
      "Downloading seaborn-0.13.2-py3-none-any.whl (294 kB)\n",
      "   ---------------------------------------- 0.0/294.9 kB ? eta -:--:--\n",
      "   - -------------------------------------- 10.2/294.9 kB ? eta -:--:--\n",
      "   ------------ --------------------------- 92.2/294.9 kB 1.3 MB/s eta 0:00:01\n",
      "   ------------------------------- -------- 235.5/294.9 kB 1.8 MB/s eta 0:00:01\n",
      "   ---------------------------------------- 294.9/294.9 kB 1.8 MB/s eta 0:00:00\n",
      "Installing collected packages: seaborn\n",
      "Successfully installed seaborn-0.13.2\n"
     ]
    }
   ],
   "source": [
    "!pip install seaborn"
   ]
  },
  {
   "cell_type": "code",
   "execution_count": 59,
   "id": "07ab3a49-d300-42ca-831b-52afd55b3d79",
   "metadata": {},
   "outputs": [],
   "source": [
    "#Spatial Analysis\n",
    "import matplotlib.pyplot as plt\n",
    "import seaborn as sns"
   ]
  },
  {
   "cell_type": "code",
   "execution_count": 68,
   "id": "d1537250-776a-4b07-9cb6-e28c20aece55",
   "metadata": {},
   "outputs": [
    {
     "data": {
      "image/png": "[encoded data removed]",
      "text/plain": [
       "<Figure size 640x480 with 1 Axes>"
      ]
     },
     "metadata": {},
     "output_type": "display_data"
    }
   ],
   "source": [
    "a=sns.scatterplot(x=df[\"LAT\"],y=df[\"LON\"],color=\"red\",edgecolor=\"yellow\")\n",
    "plt.title(\"Geo represent of crimes\")\n",
    "plt.show()"
   ]
  },
  {
   "cell_type": "code",
   "execution_count": 70,
   "id": "5ce2b52d-2a7e-4300-889d-4f1bbd472ee3",
   "metadata": {},
   "outputs": [
    {
     "data": {
      "image/png": "[encoded data removed]",
      "text/plain": [
       "<Figure size 640x480 with 1 Axes>"
      ]
     },
     "metadata": {},
     "output_type": "display_data"
    }
   ],
   "source": [
    "b=sns.histplot(x=df[\"Vict_Age\"],color=\"blue\")\n",
    "plt.title(\"Vict_Age distrubution\")\n",
    "plt.show()"
   ]
  },
  {
   "cell_type": "code",
   "execution_count": 75,
   "id": "182d58f6-ea84-4bd7-8f0a-d49bdf175e71",
   "metadata": {},
   "outputs": [
    {
     "data": {
      "image/png": "[encoded data removed]",
      "text/plain": [
       "<Figure size 640x480 with 1 Axes>"
      ]
     },
     "metadata": {},
     "output_type": "display_data"
    }
   ],
   "source": [
    "c=sns.countplot(x=df[\"Vict_Sex\"],color=\"black\")\n",
    "plt.title(\"Diff in vict_sex\")\n",
    "plt.show()"
   ]
  },
  {
   "cell_type": "code",
   "execution_count": 86,
   "id": "4d8156d3-93a2-4b15-8e45-496e17682d33",
   "metadata": {},
   "outputs": [
    {
     "data": {
      "image/png": "[encoded data removed]",
      "text/plain": [
       "<Figure size 640x480 with 1 Axes>"
      ]
     },
     "metadata": {},
     "output_type": "display_data"
    }
   ],
   "source": [
    "d=sns.countplot(x=df[\"Location\"],color=\"red\")\n",
    "plt.show()\n"
   ]
  },
  {
   "cell_type": "code",
   "execution_count": 88,
   "id": "e74c6260-1a68-4537-a18f-533095f45e45",
   "metadata": {},
   "outputs": [
    {
     "data": {
      "image/png": "[encoded data removed]",
      "text/plain": [
       "<Figure size 640x480 with 1 Axes>"
      ]
     },
     "metadata": {},
     "output_type": "display_data"
    }
   ],
   "source": [
    "# What is the distribution of reported crimes based on Crime Code?\n",
    "e=sns.histplot(df[\"Crm_Cd\"],color=\"orange\")\n",
    "plt.title(\"crime on crime codes\")\n",
    "plt.show()\n"
   ]
  }
 ],
 "metadata": {
  "kernelspec": {
   "display_name": "Python 3 (ipykernel)",
   "language": "python",
   "name": "python3"
  },
  "language_info": {
   "codemirror_mode": {
    "name": "ipython",
    "version": 3
   },
   "file_extension": ".py",
   "mimetype": "text/x-python",
   "name": "python",
   "nbconvert_exporter": "python",
   "pygments_lexer": "ipython3",
   "version": "3.12.2"
  }
 },
 "nbformat": 4,
 "nbformat_minor": 5
}
